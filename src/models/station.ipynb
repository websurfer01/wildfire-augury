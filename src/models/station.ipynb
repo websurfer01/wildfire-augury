{
 "cells": [
  {
   "cell_type": "code",
   "execution_count": null,
   "id": "97d44df6-a91f-4865-ba70-a75f8a4f4219",
   "metadata": {},
   "outputs": [],
   "source": [
    "class Station: \n",
    "    def __init__(self, _id, lat, lon, elev): \n",
    "        self.id = _id \n",
    "        self.latitude = lat\n",
    "        self.longitude = lon\n",
    "        self.elevation = elev"
   ]
  }
 ],
 "metadata": {
  "kernelspec": {
   "display_name": "Python 3 (ipykernel)",
   "language": "python",
   "name": "python3"
  },
  "language_info": {
   "codemirror_mode": {
    "name": "ipython",
    "version": 3
   },
   "file_extension": ".py",
   "mimetype": "text/x-python",
   "name": "python",
   "nbconvert_exporter": "python",
   "pygments_lexer": "ipython3",
   "version": "3.9.2"
  }
 },
 "nbformat": 4,
 "nbformat_minor": 5
}
